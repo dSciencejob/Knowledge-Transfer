{
  "cells": [
    {
      "cell_type": "code",
      "execution_count": null,
      "metadata": {
        "id": "YPkmQ1_2J-2I"
      },
      "outputs": [],
      "source": [
        "!pip install -q tf-models-official tensorflow-addons\n",
        "!pip install -q tfimm"
      ]
    },
    {
      "cell_type": "code",
      "execution_count": null,
      "metadata": {
        "id": "YpYoA5UrJ-zP"
      },
      "outputs": [],
      "source": [
        "from official.vision.image_classification.augment import RandAugment\n",
        "from tensorflow.keras import layers\n",
        "from sklearn.model_selection import GroupKFold\n",
        "from sklearn.preprocessing import LabelEncoder\n",
        "import tensorflow as tf\n",
        "from tensorflow import keras\n",
        "import tensorflow_addons as tfa\n",
        "import matplotlib.pyplot as plt\n",
        "import pandas as pd\n",
        "import numpy as np\n",
        "import random\n",
        "import os\n",
        "import efficientnet.tfkeras as efn\n",
        "import tfimm"
      ]
    },
    {
      "cell_type": "code",
      "execution_count": null,
      "metadata": {
        "id": "fVeH-HF3J-v3"
      },
      "outputs": [],
      "source": [
        "AUTO = tf.data.AUTOTUNE\n",
        "BATCH_SIZE = 128\n",
        "EPOCHS = 10\n",
        "RESIZE_TO = 256\n",
        "LEARNING_RATE = 1e-3\n",
        "WEIGHT_DECAY = 0.0005\n",
        "SEED = 1 \n",
        "NFOLD = 5\n",
        "VAL_FOLD = 0\n",
        "TEST_FOLD = 1\n",
        "\n",
        "GCS_PATH = 'gs://kds-57f9ca82c6ece747fdb97da243e70f5c8414ca9cf66a8576e6c00740'\n",
        "VERBOSE = 1\n",
        "train = pd.read_csv('train.csv')\n",
        "N_CLASSES = train.species.nunique()\n",
        "TRAINING_FILENAMES = tf.io.gfile.glob(GCS_PATH + '/train/train/*.png')\n",
        "TEST_FILENAMES = tf.io.gfile.glob(GCS_PATH + '/test/test/*.png')\n",
        "STEPS_PER_EPOCH = len(TRAINING_FILENAMES)+len(TEST_FILENAMES) // BATCH_SIZE\n",
        "\n",
        "def seed_everything(seed):\n",
        "    random.seed(seed)\n",
        "    np.random.seed(seed)\n",
        "    os.environ['PYTHONHASHSEED'] = str(seed)\n",
        "    tf.random.set_seed(seed)\n",
        "    \n",
        "seed_everything(SEED)"
      ]
    },
    {
      "cell_type": "code",
      "execution_count": null,
      "metadata": {
        "id": "8gDm4xcKLvhf"
      },
      "outputs": [],
      "source": [
        "from IPython.display import clear_output\n",
        "\n",
        "tpu = tf.distribute.cluster_resolver.TPUClusterResolver()\n",
        "\n",
        "if tpu:\n",
        "    tf.config.experimental_connect_to_cluster(tpu)\n",
        "    tf.tpu.experimental.initialize_tpu_system(tpu)\n",
        "    strategy = tf.distribute.TPUStrategy(tpu)\n",
        "else:\n",
        "    strategy = tf.distribute.get_strategy()\n",
        "\n",
        "clear_output()    "
      ]
    },
    {
      "cell_type": "code",
      "execution_count": null,
      "metadata": {
        "colab": {
          "base_uri": "https://localhost:8080/",
          "height": 81
        },
        "id": "QFgJHAe1MFTX",
        "outputId": "773787df-692d-4895-cad4-73ef55937ce2"
      },
      "outputs": [
        {
          "data": {
            "text/html": [
              "\n",
              "  <div id=\"df-c7c9652b-c27e-4b47-880b-c4e76613d1bc\">\n",
              "    <div class=\"colab-df-container\">\n",
              "      <div>\n",
              "<style scoped>\n",
              "    .dataframe tbody tr th:only-of-type {\n",
              "        vertical-align: middle;\n",
              "    }\n",
              "\n",
              "    .dataframe tbody tr th {\n",
              "        vertical-align: top;\n",
              "    }\n",
              "\n",
              "    .dataframe thead th {\n",
              "        text-align: right;\n",
              "    }\n",
              "</style>\n",
              "<table border=\"1\" class=\"dataframe\">\n",
              "  <thead>\n",
              "    <tr style=\"text-align: right;\">\n",
              "      <th></th>\n",
              "      <th>image</th>\n",
              "      <th>species</th>\n",
              "      <th>individual_id</th>\n",
              "      <th>labels</th>\n",
              "      <th>fold</th>\n",
              "    </tr>\n",
              "  </thead>\n",
              "  <tbody>\n",
              "    <tr>\n",
              "      <th>0</th>\n",
              "      <td>00021adfb725ed.jpg</td>\n",
              "      <td>melon_headed_whale</td>\n",
              "      <td>cadddb1636b9</td>\n",
              "      <td>18</td>\n",
              "      <td>2</td>\n",
              "    </tr>\n",
              "  </tbody>\n",
              "</table>\n",
              "</div>\n",
              "      <button class=\"colab-df-convert\" onclick=\"convertToInteractive('df-c7c9652b-c27e-4b47-880b-c4e76613d1bc')\"\n",
              "              title=\"Convert this dataframe to an interactive table.\"\n",
              "              style=\"display:none;\">\n",
              "        \n",
              "  <svg xmlns=\"http://www.w3.org/2000/svg\" height=\"24px\"viewBox=\"0 0 24 24\"\n",
              "       width=\"24px\">\n",
              "    <path d=\"M0 0h24v24H0V0z\" fill=\"none\"/>\n",
              "    <path d=\"M18.56 5.44l.94 2.06.94-2.06 2.06-.94-2.06-.94-.94-2.06-.94 2.06-2.06.94zm-11 1L8.5 8.5l.94-2.06 2.06-.94-2.06-.94L8.5 2.5l-.94 2.06-2.06.94zm10 10l.94 2.06.94-2.06 2.06-.94-2.06-.94-.94-2.06-.94 2.06-2.06.94z\"/><path d=\"M17.41 7.96l-1.37-1.37c-.4-.4-.92-.59-1.43-.59-.52 0-1.04.2-1.43.59L10.3 9.45l-7.72 7.72c-.78.78-.78 2.05 0 2.83L4 21.41c.39.39.9.59 1.41.59.51 0 1.02-.2 1.41-.59l7.78-7.78 2.81-2.81c.8-.78.8-2.07 0-2.86zM5.41 20L4 18.59l7.72-7.72 1.47 1.35L5.41 20z\"/>\n",
              "  </svg>\n",
              "      </button>\n",
              "      \n",
              "  <style>\n",
              "    .colab-df-container {\n",
              "      display:flex;\n",
              "      flex-wrap:wrap;\n",
              "      gap: 12px;\n",
              "    }\n",
              "\n",
              "    .colab-df-convert {\n",
              "      background-color: #E8F0FE;\n",
              "      border: none;\n",
              "      border-radius: 50%;\n",
              "      cursor: pointer;\n",
              "      display: none;\n",
              "      fill: #1967D2;\n",
              "      height: 32px;\n",
              "      padding: 0 0 0 0;\n",
              "      width: 32px;\n",
              "    }\n",
              "\n",
              "    .colab-df-convert:hover {\n",
              "      background-color: #E2EBFA;\n",
              "      box-shadow: 0px 1px 2px rgba(60, 64, 67, 0.3), 0px 1px 3px 1px rgba(60, 64, 67, 0.15);\n",
              "      fill: #174EA6;\n",
              "    }\n",
              "\n",
              "    [theme=dark] .colab-df-convert {\n",
              "      background-color: #3B4455;\n",
              "      fill: #D2E3FC;\n",
              "    }\n",
              "\n",
              "    [theme=dark] .colab-df-convert:hover {\n",
              "      background-color: #434B5C;\n",
              "      box-shadow: 0px 1px 3px 1px rgba(0, 0, 0, 0.15);\n",
              "      filter: drop-shadow(0px 1px 2px rgba(0, 0, 0, 0.3));\n",
              "      fill: #FFFFFF;\n",
              "    }\n",
              "  </style>\n",
              "\n",
              "      <script>\n",
              "        const buttonEl =\n",
              "          document.querySelector('#df-c7c9652b-c27e-4b47-880b-c4e76613d1bc button.colab-df-convert');\n",
              "        buttonEl.style.display =\n",
              "          google.colab.kernel.accessAllowed ? 'block' : 'none';\n",
              "\n",
              "        async function convertToInteractive(key) {\n",
              "          const element = document.querySelector('#df-c7c9652b-c27e-4b47-880b-c4e76613d1bc');\n",
              "          const dataTable =\n",
              "            await google.colab.kernel.invokeFunction('convertToInteractive',\n",
              "                                                     [key], {});\n",
              "          if (!dataTable) return;\n",
              "\n",
              "          const docLinkHtml = 'Like what you see? Visit the ' +\n",
              "            '<a target=\"_blank\" href=https://colab.research.google.com/notebooks/data_table.ipynb>data table notebook</a>'\n",
              "            + ' to learn more about interactive tables.';\n",
              "          element.innerHTML = '';\n",
              "          dataTable['output_type'] = 'display_data';\n",
              "          await google.colab.output.renderOutput(dataTable, element);\n",
              "          const docLink = document.createElement('div');\n",
              "          docLink.innerHTML = docLinkHtml;\n",
              "          element.appendChild(docLink);\n",
              "        }\n",
              "      </script>\n",
              "    </div>\n",
              "  </div>\n",
              "  "
            ],
            "text/plain": [
              "                image             species individual_id  labels  fold\n",
              "0  00021adfb725ed.jpg  melon_headed_whale  cadddb1636b9      18     2"
            ]
          },
          "execution_count": 4,
          "metadata": {},
          "output_type": "execute_result"
        }
      ],
      "source": [
        "train = pd.read_csv('train.csv')\n",
        "\n",
        "encoder = LabelEncoder()\n",
        "train['labels'] = encoder.fit_transform(train.species)\n",
        "\n",
        "gkf  = GroupKFold(n_splits = NFOLD)\n",
        "train['fold'] = -1\n",
        "for fold, (train_idx, val_idx) in enumerate(gkf.split(train, groups = train.individual_id.tolist())):\n",
        "    train.loc[val_idx, 'fold'] = fold\n",
        "\n",
        "train.head(1)"
      ]
    },
    {
      "cell_type": "code",
      "execution_count": null,
      "metadata": {
        "id": "CfPJpFIYMImw"
      },
      "outputs": [],
      "source": [
        "valid_paths = [GCS_PATH+'/train/train/'+x[0]+'.png' for x in train[train['fold'] == VAL_FOLD]['image'].str.split('.').values]\n",
        "train_paths = [GCS_PATH+'/train/train/'+x[0]+'.png' for x in train[(train['fold'] != VAL_FOLD) & (train['fold'] != TEST_FOLD)]['image'].str.split('.').values]\n",
        "test_paths = [GCS_PATH+'/train/train/'+x[0]+'.png' for x in train[train['fold'] == TEST_FOLD]['image'].str.split('.').values]\n",
        "\n",
        "valid_labels = np.array(train[train['fold'] == VAL_FOLD]['labels']).reshape(-1,1)\n",
        "train_labels = np.array(train[(train['fold'] != VAL_FOLD) & (train['fold'] != TEST_FOLD)]['labels']).reshape(-1,1)\n",
        "test_labels = np.array(train[train['fold'] == TEST_FOLD]['labels']).reshape(-1,1)"
      ]
    },
    {
      "cell_type": "code",
      "execution_count": null,
      "metadata": {
        "id": "oI4ItPvGMMrw"
      },
      "outputs": [],
      "source": [
        "def decode_img(path):\n",
        "    file_bytes = tf.io.read_file(path)\n",
        "    img = tf.image.decode_png(file_bytes, channels=3)\n",
        "    img = tf.image.resize(img, [RESIZE_TO,RESIZE_TO])\n",
        "    img = tf.cast(img, tf.float32) \n",
        "    return img\n",
        "\n",
        "def load_dataset(filename, label):\n",
        "    img = decode_img(filename)\n",
        "    return img, label"
      ]
    },
    {
      "cell_type": "code",
      "execution_count": null,
      "metadata": {
        "id": "pufpvTTgMR8o"
      },
      "outputs": [],
      "source": [
        "train_ds = tf.data.Dataset.from_tensor_slices((train_paths, train_labels))\n",
        "valid_ds = tf.data.Dataset.from_tensor_slices((valid_paths, valid_labels))\n",
        "test_ds = tf.data.Dataset.from_tensor_slices((test_paths, test_labels))\n",
        "\n",
        "# This dataset will be used to train the first model.\n",
        "train_ds = (\n",
        "    train_ds.map(load_dataset, num_parallel_calls = AUTO)\n",
        "    .cache()\n",
        "    .shuffle(BATCH_SIZE * 10, seed=SEED)\n",
        "    .batch(BATCH_SIZE, drop_remainder=True)\n",
        "    .prefetch(AUTO)\n",
        ")\n",
        "\n",
        "valid_ds = (\n",
        "    valid_ds.map(load_dataset, num_parallel_calls = AUTO)\n",
        "    .cache()\n",
        "    .batch(BATCH_SIZE)\n",
        "    .prefetch(AUTO)\n",
        ")\n",
        "\n",
        "test_ds = (\n",
        "    test_ds.map(load_dataset, num_parallel_calls = AUTO)\n",
        "    .cache()\n",
        "    .batch(BATCH_SIZE)\n",
        "    .prefetch(AUTO)\n",
        ")"
      ]
    },
    {
      "cell_type": "code",
      "execution_count": null,
      "metadata": {
        "id": "6cRw1CDhMWTH"
      },
      "outputs": [],
      "source": [
        "def get_teacher_model(num_classes=N_CLASSES):\n",
        "    model_ = tfimm.create_model('resnet50d')\n",
        "    model = tf.keras.Sequential(\n",
        "        [\n",
        "            layers.Input((RESIZE_TO, RESIZE_TO, 3)),\n",
        "            layers.Rescaling(scale=1.0 / 127.5, offset=-1),\n",
        "            model_,\n",
        "            layers.Dense(num_classes),\n",
        "        ]\n",
        "    )\n",
        "    return model\n",
        "\n",
        "def get_student_model(num_classes=N_CLASSES):\n",
        "    model_ = tfimm.create_model('resnet34d')\n",
        "    model = tf.keras.Sequential(\n",
        "        [\n",
        "            layers.Input((RESIZE_TO, RESIZE_TO, 3)),\n",
        "            layers.Rescaling(scale=1.0 / 127.5, offset=-1),\n",
        "            model_,\n",
        "            layers.Dense(num_classes),\n",
        "        ]\n",
        "    )\n",
        "    return model    \n",
        "\n",
        "initial_teacher_model = get_teacher_model()\n",
        "initial_teacher_model.save_weights(\"initial_teacher_model.h5\")\n",
        "\n",
        "initial_student_model = get_student_model()\n",
        "initial_student_model.save_weights(\"initial_student_model.h5\")"
      ]
    },
    {
      "cell_type": "code",
      "execution_count": null,
      "metadata": {
        "colab": {
          "base_uri": "https://localhost:8080/"
        },
        "id": "o8lY7DDCMk2g",
        "outputId": "5ed7f42b-0aff-41de-f5d7-546e6518a14a"
      },
      "outputs": [
        {
          "name": "stdout",
          "output_type": "stream",
          "text": [
            "Epoch 1/10\n",
            "239/239 [==============================] - 976s 4s/step - loss: 1.9315 - accuracy: 0.4953 - val_loss: 1.7855 - val_accuracy: 0.5204 - lr: 0.0010\n",
            "Epoch 2/10\n",
            "239/239 [==============================] - 34s 142ms/step - loss: 1.0835 - accuracy: 0.6714 - val_loss: 1.0059 - val_accuracy: 0.6965 - lr: 0.0010\n",
            "Epoch 3/10\n",
            "239/239 [==============================] - 32s 135ms/step - loss: 0.7987 - accuracy: 0.7540 - val_loss: 1.0231 - val_accuracy: 0.6952 - lr: 0.0010\n",
            "Epoch 4/10\n",
            "239/239 [==============================] - 32s 135ms/step - loss: 0.6401 - accuracy: 0.7998 - val_loss: 1.0509 - val_accuracy: 0.7018 - lr: 0.0010\n",
            "Epoch 5/10\n",
            "239/239 [==============================] - 34s 142ms/step - loss: 0.5274 - accuracy: 0.8337 - val_loss: 0.6824 - val_accuracy: 0.7952 - lr: 0.0010\n",
            "Epoch 6/10\n",
            "239/239 [==============================] - 34s 142ms/step - loss: 0.4398 - accuracy: 0.8599 - val_loss: 0.6696 - val_accuracy: 0.8057 - lr: 0.0010\n",
            "Epoch 7/10\n",
            "239/239 [==============================] - 34s 141ms/step - loss: 0.3812 - accuracy: 0.8788 - val_loss: 0.5628 - val_accuracy: 0.8290 - lr: 0.0010\n",
            "Epoch 8/10\n",
            "239/239 [==============================] - 32s 135ms/step - loss: 0.3316 - accuracy: 0.8941 - val_loss: 0.6370 - val_accuracy: 0.8062 - lr: 0.0010\n",
            "Epoch 9/10\n",
            "239/239 [==============================] - 33s 136ms/step - loss: 0.2821 - accuracy: 0.9090 - val_loss: 0.6704 - val_accuracy: 0.8046 - lr: 0.0010\n",
            "Epoch 10/10\n",
            "239/239 [==============================] - 32s 136ms/step - loss: 0.2620 - accuracy: 0.9151 - val_loss: 0.6235 - val_accuracy: 0.8274 - lr: 0.0010\n"
          ]
        }
      ],
      "source": [
        "# Define the callbacks.\n",
        "reduce_lr = tf.keras.callbacks.ReduceLROnPlateau(patience=3)\n",
        "early_stopping = tf.keras.callbacks.EarlyStopping(\n",
        "    patience=10, restore_best_weights=True\n",
        ")\n",
        "\n",
        "# Initialize SWA from tf-hub.\n",
        "SWA = tfa.optimizers.SWA\n",
        "\n",
        "# Compile and train the teacher model.\n",
        "\n",
        "with strategy.scope():\n",
        "  teacher_model = get_teacher_model()\n",
        "  teacher_model.load_weights(\"initial_teacher_model.h5\")\n",
        "  teacher_model.compile(\n",
        "    # Notice that we are wrapping our optimizer within SWA\n",
        "    optimizer=SWA(tf.keras.optimizers.Adam(LEARNING_RATE)),\n",
        "    loss=tf.keras.losses.SparseCategoricalCrossentropy(from_logits=True),\n",
        "    metrics=[\"accuracy\"],\n",
        "    )\n",
        "  \n",
        "history = teacher_model.fit(\n",
        "    train_ds,\n",
        "    epochs=EPOCHS,\n",
        "    validation_data=valid_ds,\n",
        "    callbacks=[reduce_lr, early_stopping], \n",
        ")"
      ]
    },
    {
      "cell_type": "code",
      "execution_count": null,
      "metadata": {
        "id": "Dl7morSoMrYA"
      },
      "outputs": [],
      "source": [
        "class Distiller(keras.Model):\n",
        "    def __init__(self, student, teacher):\n",
        "        super(Distiller, self).__init__()\n",
        "        self.teacher = teacher\n",
        "        self.student = student\n",
        "\n",
        "    def compile(\n",
        "        self,\n",
        "        optimizer,\n",
        "        metrics,\n",
        "        student_loss_fn,\n",
        "        distillation_loss_fn,\n",
        "        alpha=0.1,\n",
        "        temperature=3,\n",
        "    ):\n",
        "        \"\"\" Configure the distiller.\n",
        "\n",
        "        Args:\n",
        "            optimizer: Keras optimizer for the student weights\n",
        "            metrics: Keras metrics for evaluation\n",
        "            student_loss_fn: Loss function of difference between student\n",
        "                predictions and ground-truth\n",
        "            distillation_loss_fn: Loss function of difference between soft\n",
        "                student predictions and soft teacher predictions\n",
        "            alpha: weight to student_loss_fn and 1-alpha to distillation_loss_fn\n",
        "            temperature: Temperature for softening probability distributions.\n",
        "                Larger temperature gives softer distributions.\n",
        "        \"\"\"\n",
        "        super(Distiller, self).compile(optimizer=optimizer, metrics=metrics)\n",
        "        self.student_loss_fn = student_loss_fn\n",
        "        self.distillation_loss_fn = distillation_loss_fn\n",
        "        self.alpha = alpha\n",
        "        self.temperature = temperature\n",
        "\n",
        "    def train_step(self, data):\n",
        "        # Unpack data\n",
        "        x, y = data\n",
        "\n",
        "        # Forward pass of teacher\n",
        "        teacher_predictions = self.teacher(x, training=False)\n",
        "\n",
        "        with tf.GradientTape() as tape:\n",
        "            # Forward pass of student\n",
        "            student_predictions = self.student(x, training=True)\n",
        "\n",
        "            # Compute losses\n",
        "            student_loss = self.student_loss_fn(y, student_predictions)\n",
        "            distillation_loss = self.distillation_loss_fn(\n",
        "                tf.nn.softmax(teacher_predictions / self.temperature, axis=1),\n",
        "                tf.nn.softmax(student_predictions / self.temperature, axis=1),\n",
        "            )\n",
        "            loss = self.alpha * student_loss + (1 - self.alpha) * distillation_loss\n",
        "\n",
        "        # Compute gradients\n",
        "        trainable_vars = self.student.trainable_variables\n",
        "        gradients = tape.gradient(loss, trainable_vars)\n",
        "\n",
        "        # Update weights\n",
        "        self.optimizer.apply_gradients(zip(gradients, trainable_vars))\n",
        "\n",
        "        # Update the metrics configured in `compile()`.\n",
        "        self.compiled_metrics.update_state(y, student_predictions)\n",
        "\n",
        "        # Return a dict of performance\n",
        "        results = {m.name: m.result() for m in self.metrics}\n",
        "        results.update(\n",
        "            {\"loss\": loss}\n",
        "        )\n",
        "        return results\n",
        "\n",
        "    def test_step(self, data):\n",
        "        # Unpack the data\n",
        "        x, y = data\n",
        "\n",
        "        # Compute predictions\n",
        "        y_prediction = self.student(x, training=False)\n",
        "\n",
        "        # Calculate the loss\n",
        "        student_loss = self.student_loss_fn(y, y_prediction)\n",
        "\n",
        "        # Update the metrics.\n",
        "        self.compiled_metrics.update_state(y, y_prediction)\n",
        "\n",
        "        # Return a dict of performance\n",
        "        results = {m.name: m.result() for m in self.metrics}\n",
        "        results.update({\"loss\": student_loss})\n",
        "        return results"
      ]
    },
    {
      "cell_type": "code",
      "execution_count": null,
      "metadata": {
        "colab": {
          "base_uri": "https://localhost:8080/"
        },
        "id": "Wb1NqKy0MrU4",
        "outputId": "2b6a7d53-2b0e-4ab2-f4c4-c665f81fc53b"
      },
      "outputs": [
        {
          "name": "stdout",
          "output_type": "stream",
          "text": [
            "Epoch 1/10\n",
            "239/239 [==============================] - 103s 214ms/step - accuracy: 0.5492 - loss: 0.2550 - val_accuracy: 0.5827 - val_loss: 1.3279 - lr: 0.0010\n",
            "Epoch 2/10\n",
            "239/239 [==============================] - 35s 145ms/step - accuracy: 0.7290 - loss: 0.1408 - val_accuracy: 0.7382 - val_loss: 1.7755 - lr: 0.0010\n",
            "Epoch 3/10\n",
            "239/239 [==============================] - 31s 131ms/step - accuracy: 0.8123 - loss: 0.0976 - val_accuracy: 0.7379 - val_loss: 1.1868 - lr: 0.0010\n",
            "Epoch 4/10\n",
            "239/239 [==============================] - 34s 144ms/step - accuracy: 0.8579 - loss: 0.0772 - val_accuracy: 0.8141 - val_loss: 0.9817 - lr: 0.0010\n",
            "Epoch 5/10\n",
            "239/239 [==============================] - 34s 143ms/step - accuracy: 0.8877 - loss: 0.0607 - val_accuracy: 0.8498 - val_loss: 0.8382 - lr: 0.0010\n",
            "Epoch 6/10\n",
            "239/239 [==============================] - 32s 132ms/step - accuracy: 0.9096 - loss: 0.0502 - val_accuracy: 0.8366 - val_loss: 1.3413 - lr: 0.0010\n",
            "Epoch 7/10\n",
            "239/239 [==============================] - 33s 137ms/step - accuracy: 0.9248 - loss: 0.0419 - val_accuracy: 0.8456 - val_loss: 1.2538 - lr: 0.0010\n",
            "Epoch 8/10\n",
            "239/239 [==============================] - 34s 143ms/step - accuracy: 0.9434 - loss: 0.0369 - val_accuracy: 0.8743 - val_loss: 0.8969 - lr: 0.0010\n",
            "Epoch 9/10\n",
            "239/239 [==============================] - 34s 144ms/step - accuracy: 0.9500 - loss: 0.0334 - val_accuracy: 0.8811 - val_loss: 0.9146 - lr: 0.0010\n",
            "Epoch 10/10\n",
            "239/239 [==============================] - 34s 144ms/step - accuracy: 0.9628 - loss: 0.0280 - val_accuracy: 0.8921 - val_loss: 0.8049 - lr: 0.0010\n"
          ]
        },
        {
          "data": {
            "text/plain": [
              "<keras.callbacks.History at 0x7f17732c2710>"
            ]
          },
          "execution_count": 12,
          "metadata": {},
          "output_type": "execute_result"
        }
      ],
      "source": [
        "# Initialize and compile distiller\n",
        "reduce_lr = tf.keras.callbacks.ReduceLROnPlateau(patience=3, factor=0.5, monitor=\"val_accuracy\")\n",
        "early_stopping = tf.keras.callbacks.EarlyStopping(\n",
        "    patience=10, restore_best_weights=True, monitor=\"val_accuracy\"\n",
        ")\n",
        "\n",
        "with strategy.scope():\n",
        "  \n",
        "  student_model = get_student_model()\n",
        "  student_model.load_weights(\"initial_student_model.h5\")\n",
        "\n",
        "  distiller = Distiller(student=student_model, teacher=teacher_model)\n",
        "  distiller.compile(\n",
        "    optimizer=keras.optimizers.Adam(LEARNING_RATE),\n",
        "    metrics=[\"accuracy\"],\n",
        "    student_loss_fn=keras.losses.SparseCategoricalCrossentropy(from_logits=True, reduction=tf.keras.losses.Reduction.NONE),\n",
        "    distillation_loss_fn=keras.losses.KLDivergence(reduction=tf.keras.losses.Reduction.NONE),\n",
        "    alpha=0.1,\n",
        "    temperature=10,\n",
        "    )\n",
        "\n",
        "# Distill teacher to student\n",
        "distiller.fit(\n",
        "    train_ds,\n",
        "    epochs=EPOCHS,\n",
        "    validation_data=valid_ds,\n",
        "    callbacks=[reduce_lr, early_stopping],\n",
        ")"
      ]
    },
    {
      "cell_type": "code",
      "execution_count": null,
      "metadata": {
        "colab": {
          "base_uri": "https://localhost:8080/"
        },
        "id": "mcCiocmtMrSI",
        "outputId": "68ed59f7-f4f6-4b6d-d9a3-8b8bbb59d639"
      },
      "outputs": [
        {
          "name": "stdout",
          "output_type": "stream",
          "text": [
            "Epoch 1/10\n",
            "239/239 [==============================] - 85s 168ms/step - loss: 1.5702 - accuracy: 0.5409 - val_loss: 1.4960 - val_accuracy: 0.5891\n",
            "Epoch 2/10\n",
            "239/239 [==============================] - 26s 107ms/step - loss: 0.9545 - accuracy: 0.7062 - val_loss: 1.1879 - val_accuracy: 0.6842\n",
            "Epoch 3/10\n",
            "239/239 [==============================] - 26s 107ms/step - loss: 0.6988 - accuracy: 0.7823 - val_loss: 0.8549 - val_accuracy: 0.7365\n",
            "Epoch 4/10\n",
            "239/239 [==============================] - 26s 108ms/step - loss: 0.5379 - accuracy: 0.8287 - val_loss: 0.8907 - val_accuracy: 0.7354\n",
            "Epoch 5/10\n",
            "239/239 [==============================] - 26s 108ms/step - loss: 0.4353 - accuracy: 0.8617 - val_loss: 0.7917 - val_accuracy: 0.7690\n",
            "Epoch 6/10\n",
            "239/239 [==============================] - 26s 108ms/step - loss: 0.3614 - accuracy: 0.8832 - val_loss: 0.5480 - val_accuracy: 0.8335\n",
            "Epoch 7/10\n",
            "239/239 [==============================] - 27s 114ms/step - loss: 0.2996 - accuracy: 0.9042 - val_loss: 0.6879 - val_accuracy: 0.8166\n",
            "Epoch 8/10\n",
            "239/239 [==============================] - 29s 119ms/step - loss: 0.2485 - accuracy: 0.9193 - val_loss: 0.6906 - val_accuracy: 0.8194\n",
            "Epoch 9/10\n",
            "239/239 [==============================] - 27s 113ms/step - loss: 0.2250 - accuracy: 0.9258 - val_loss: 0.4856 - val_accuracy: 0.8631\n",
            "Epoch 10/10\n",
            "239/239 [==============================] - 26s 108ms/step - loss: 0.1868 - accuracy: 0.9381 - val_loss: 0.5508 - val_accuracy: 0.8524\n"
          ]
        },
        {
          "data": {
            "text/plain": [
              "<keras.callbacks.History at 0x7f176eaad450>"
            ]
          },
          "execution_count": 14,
          "metadata": {},
          "output_type": "execute_result"
        }
      ],
      "source": [
        "with strategy.scope():\n",
        "  \n",
        "  student_model = get_student_model()\n",
        "  student_model.load_weights(\"initial_student_model.h5\")\n",
        "\n",
        "  student_model.compile(\n",
        "    optimizer=keras.optimizers.Adam(LEARNING_RATE),\n",
        "    loss=keras.losses.SparseCategoricalCrossentropy(from_logits=True),\n",
        "    metrics=[\"accuracy\"],\n",
        "    )\n",
        "\n",
        "# Train and evaluate student trained from scratch.\n",
        "student_model.fit(\n",
        "    train_ds,\n",
        "    epochs=EPOCHS,\n",
        "    validation_data=valid_ds,\n",
        ")"
      ]
    },
    {
      "cell_type": "code",
      "execution_count": null,
      "metadata": {
        "colab": {
          "base_uri": "https://localhost:8080/"
        },
        "id": "PjqevoQyMrPg",
        "outputId": "24ec492a-2f61-4447-b657-d574f43b9622"
      },
      "outputs": [
        {
          "name": "stdout",
          "output_type": "stream",
          "text": [
            "Test accuracy for teacher model: 84.49103236198425%\n",
            "Test accuracy for student model: 87.47918009757996%\n",
            "Test accuracy after distilling teacher to student: 90.8690094947815%\n"
          ]
        }
      ],
      "source": [
        "_, t_acc = teacher_model.evaluate(test_ds, verbose=0)\n",
        "d_acc, _ = distiller.evaluate(test_ds, verbose=0)\n",
        "_, s_acc = student_model.evaluate(test_ds, verbose=0)\n",
        "\n",
        "print(f\"Test accuracy for teacher model: {t_acc*100}%\")\n",
        "print(f\"Test accuracy for student model: {s_acc*100}%\")\n",
        "print(f\"Test accuracy after distilling teacher to student: {d_acc*100}%\")"
      ]
    },
    {
      "cell_type": "code",
      "execution_count": null,
      "metadata": {
        "id": "c8AQtBdIk5fn"
      },
      "outputs": [],
      "source": [
        ""
      ]
    }
  ],
  "metadata": {
    "accelerator": "TPU",
    "colab": {
      "collapsed_sections": [],
      "machine_shape": "hm",
      "name": "whale_knowledge_distillation.ipynb",
      "provenance": []
    },
    "kernelspec": {
      "display_name": "Python 3",
      "language": "python",
      "name": "python3"
    },
    "language_info": {
      "codemirror_mode": {
        "name": "ipython",
        "version": 3
      },
      "file_extension": ".py",
      "mimetype": "text/x-python",
      "name": "python",
      "nbconvert_exporter": "python",
      "pygments_lexer": "ipython3",
      "version": "3.7.1"
    }
  },
  "nbformat": 4,
  "nbformat_minor": 0
}